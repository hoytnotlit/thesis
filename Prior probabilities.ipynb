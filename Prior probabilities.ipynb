{
 "cells": [
  {
   "cell_type": "code",
   "execution_count": 1,
   "id": "9e7b4890",
   "metadata": {},
   "outputs": [
    {
     "name": "stderr",
     "output_type": "stream",
     "text": [
      "/home/gussuvmi@GU.GU.SE/venv/lib64/python3.9/site-packages/tqdm/auto.py:22: TqdmWarning: IProgress not found. Please update jupyter and ipywidgets. See https://ipywidgets.readthedocs.io/en/stable/user_install.html\n",
      "  from .autonotebook import tqdm as notebook_tqdm\n",
      "Some weights of the model checkpoint at TurkuNLP/bert-base-finnish-cased-v1 were not used when initializing BertForMaskedLM: ['cls.seq_relationship.weight', 'cls.seq_relationship.bias']\n",
      "- This IS expected if you are initializing BertForMaskedLM from the checkpoint of a model trained on another task or with another architecture (e.g. initializing a BertForSequenceClassification model from a BertForPreTraining model).\n",
      "- This IS NOT expected if you are initializing BertForMaskedLM from the checkpoint of a model that you expect to be exactly identical (initializing a BertForSequenceClassification model from a BertForSequenceClassification model).\n"
     ]
    }
   ],
   "source": [
    "import data, score, context as ctx\n",
    "\n",
    "model, tokenizer = score.get_model()\n",
    "short_result = data.get_context_sentences(ctx.context, ctx.context_t_i, ctx.context_a_i)\n",
    "long_result = data.get_context_sentences(ctx.context_long, ctx.context_long_t_i, ctx.context_long_a_i)"
   ]
  },
  {
   "cell_type": "code",
   "execution_count": 26,
   "id": "1e81a2e9",
   "metadata": {},
   "outputs": [],
   "source": [
    "def get_prior_prob(sentence_dict):\n",
    "    result = {}\n",
    "    for key in sentence_dict.keys():\n",
    "        sents = sentence_dict[key]\n",
    "        if key == 'fin':\n",
    "            # just take whatever key, attributes in sentence will be masked anyway for prior probability\n",
    "            k = list(sentence_dict[key].keys())[0]\n",
    "            sents = sentence_dict[key][k]\n",
    "        result[key] = {}\n",
    "        for sent in sents:\n",
    "            if sent[3] not in result[key]:\n",
    "                _, prior_prob = score.get_sentence_probabilities(model, tokenizer, sent[0], sent[1], sent[2])\n",
    "                result[key][sent[3]] = prior_prob\n",
    "    return result\n",
    "s = get_prior_prob(short_result)\n",
    "l = get_prior_prob(long_result)"
   ]
  },
  {
   "cell_type": "code",
   "execution_count": 41,
   "id": "d13595d0",
   "metadata": {},
   "outputs": [
    {
     "data": {
      "text/html": [
       "<div>\n",
       "<style scoped>\n",
       "    .dataframe tbody tr th:only-of-type {\n",
       "        vertical-align: middle;\n",
       "    }\n",
       "\n",
       "    .dataframe tbody tr th {\n",
       "        vertical-align: top;\n",
       "    }\n",
       "\n",
       "    .dataframe thead th {\n",
       "        text-align: right;\n",
       "    }\n",
       "</style>\n",
       "<table border=\"1\" class=\"dataframe\">\n",
       "  <thead>\n",
       "    <tr style=\"text-align: right;\">\n",
       "      <th></th>\n",
       "      <th>fin</th>\n",
       "      <th>fswe</th>\n",
       "      <th>roma</th>\n",
       "      <th>som</th>\n",
       "      <th>sami</th>\n",
       "      <th>rus</th>\n",
       "    </tr>\n",
       "  </thead>\n",
       "  <tbody>\n",
       "    <tr>\n",
       "      <th>nainen</th>\n",
       "      <td>1.508288e-01</td>\n",
       "      <td>1.317149e-01</td>\n",
       "      <td>2.886688e-03</td>\n",
       "      <td>2.911757e-03</td>\n",
       "      <td>2.502810e-04</td>\n",
       "      <td>7.543596e-03</td>\n",
       "    </tr>\n",
       "    <tr>\n",
       "      <th>mies</th>\n",
       "      <td>4.636000e-02</td>\n",
       "      <td>5.346810e-02</td>\n",
       "      <td>2.529281e-04</td>\n",
       "      <td>1.808611e-04</td>\n",
       "      <td>4.794412e-05</td>\n",
       "      <td>1.063527e-03</td>\n",
       "    </tr>\n",
       "    <tr>\n",
       "      <th>henkilö</th>\n",
       "      <td>1.439063e-03</td>\n",
       "      <td>3.582885e-02</td>\n",
       "      <td>3.882793e-04</td>\n",
       "      <td>6.128108e-05</td>\n",
       "      <td>2.154109e-05</td>\n",
       "      <td>1.388483e-04</td>\n",
       "    </tr>\n",
       "    <tr>\n",
       "      <th>female name</th>\n",
       "      <td>1.182909e-07</td>\n",
       "      <td>1.296816e-06</td>\n",
       "      <td>8.125729e-06</td>\n",
       "      <td>7.845769e-08</td>\n",
       "      <td>1.196418e-08</td>\n",
       "      <td>2.514358e-07</td>\n",
       "    </tr>\n",
       "    <tr>\n",
       "      <th>male name</th>\n",
       "      <td>1.014819e-06</td>\n",
       "      <td>1.535878e-07</td>\n",
       "      <td>9.300995e-08</td>\n",
       "      <td>3.472587e-07</td>\n",
       "      <td>1.255568e-07</td>\n",
       "      <td>5.422669e-07</td>\n",
       "    </tr>\n",
       "  </tbody>\n",
       "</table>\n",
       "</div>"
      ],
      "text/plain": [
       "                      fin          fswe          roma           som  \\\n",
       "nainen       1.508288e-01  1.317149e-01  2.886688e-03  2.911757e-03   \n",
       "mies         4.636000e-02  5.346810e-02  2.529281e-04  1.808611e-04   \n",
       "henkilö      1.439063e-03  3.582885e-02  3.882793e-04  6.128108e-05   \n",
       "female name  1.182909e-07  1.296816e-06  8.125729e-06  7.845769e-08   \n",
       "male name    1.014819e-06  1.535878e-07  9.300995e-08  3.472587e-07   \n",
       "\n",
       "                     sami           rus  \n",
       "nainen       2.502810e-04  7.543596e-03  \n",
       "mies         4.794412e-05  1.063527e-03  \n",
       "henkilö      2.154109e-05  1.388483e-04  \n",
       "female name  1.196418e-08  2.514358e-07  \n",
       "male name    1.255568e-07  5.422669e-07  "
      ]
     },
     "execution_count": 41,
     "metadata": {},
     "output_type": "execute_result"
    }
   ],
   "source": [
    "import pandas as pd\n",
    "\n",
    "def get_prior_df(s):\n",
    "    prior_l = []\n",
    "\n",
    "    for entity in s['fin'].keys():\n",
    "        ent_priors = []\n",
    "        for ethnicity in s.keys():\n",
    "            ent_priors.append(float(s[ethnicity][entity]))\n",
    "        prior_l.append(ent_priors)\n",
    "\n",
    "\n",
    "    df = pd.DataFrame(prior_l, columns=s.keys())\n",
    "    df.index = s['fin'].keys()\n",
    "    return df\n",
    "\n",
    "get_prior_df(s)"
   ]
  },
  {
   "cell_type": "code",
   "execution_count": 42,
   "id": "04884fbd",
   "metadata": {},
   "outputs": [
    {
     "data": {
      "text/html": [
       "<div>\n",
       "<style scoped>\n",
       "    .dataframe tbody tr th:only-of-type {\n",
       "        vertical-align: middle;\n",
       "    }\n",
       "\n",
       "    .dataframe tbody tr th {\n",
       "        vertical-align: top;\n",
       "    }\n",
       "\n",
       "    .dataframe thead th {\n",
       "        text-align: right;\n",
       "    }\n",
       "</style>\n",
       "<table border=\"1\" class=\"dataframe\">\n",
       "  <thead>\n",
       "    <tr style=\"text-align: right;\">\n",
       "      <th></th>\n",
       "      <th>fin</th>\n",
       "      <th>fswe</th>\n",
       "      <th>roma</th>\n",
       "      <th>som</th>\n",
       "      <th>sami</th>\n",
       "      <th>rus</th>\n",
       "    </tr>\n",
       "  </thead>\n",
       "  <tbody>\n",
       "    <tr>\n",
       "      <th>nainen</th>\n",
       "      <td>0.121355</td>\n",
       "      <td>0.056415</td>\n",
       "      <td>1.283912e-02</td>\n",
       "      <td>1.814083e-02</td>\n",
       "      <td>0.001725</td>\n",
       "      <td>0.057987</td>\n",
       "    </tr>\n",
       "    <tr>\n",
       "      <th>mies</th>\n",
       "      <td>0.026863</td>\n",
       "      <td>0.038578</td>\n",
       "      <td>6.369622e-04</td>\n",
       "      <td>7.982593e-04</td>\n",
       "      <td>0.000412</td>\n",
       "      <td>0.007362</td>\n",
       "    </tr>\n",
       "    <tr>\n",
       "      <th>henkilö</th>\n",
       "      <td>0.012230</td>\n",
       "      <td>0.026704</td>\n",
       "      <td>2.257069e-03</td>\n",
       "      <td>1.138488e-03</td>\n",
       "      <td>0.000087</td>\n",
       "      <td>0.007057</td>\n",
       "    </tr>\n",
       "    <tr>\n",
       "      <th>female name</th>\n",
       "      <td>0.000019</td>\n",
       "      <td>0.000178</td>\n",
       "      <td>7.913087e-05</td>\n",
       "      <td>7.230553e-09</td>\n",
       "      <td>0.000002</td>\n",
       "      <td>0.000013</td>\n",
       "    </tr>\n",
       "    <tr>\n",
       "      <th>male name</th>\n",
       "      <td>0.000035</td>\n",
       "      <td>0.000002</td>\n",
       "      <td>2.394042e-07</td>\n",
       "      <td>5.567810e-04</td>\n",
       "      <td>0.000023</td>\n",
       "      <td>0.000071</td>\n",
       "    </tr>\n",
       "  </tbody>\n",
       "</table>\n",
       "</div>"
      ],
      "text/plain": [
       "                  fin      fswe          roma           som      sami  \\\n",
       "nainen       0.121355  0.056415  1.283912e-02  1.814083e-02  0.001725   \n",
       "mies         0.026863  0.038578  6.369622e-04  7.982593e-04  0.000412   \n",
       "henkilö      0.012230  0.026704  2.257069e-03  1.138488e-03  0.000087   \n",
       "female name  0.000019  0.000178  7.913087e-05  7.230553e-09  0.000002   \n",
       "male name    0.000035  0.000002  2.394042e-07  5.567810e-04  0.000023   \n",
       "\n",
       "                  rus  \n",
       "nainen       0.057987  \n",
       "mies         0.007362  \n",
       "henkilö      0.007057  \n",
       "female name  0.000013  \n",
       "male name    0.000071  "
      ]
     },
     "execution_count": 42,
     "metadata": {},
     "output_type": "execute_result"
    }
   ],
   "source": [
    "get_prior_df(l)\n",
    "# TODO can I do one of those correlation things here? association mean vs prior probability"
   ]
  },
  {
   "cell_type": "code",
   "execution_count": 60,
   "id": "c28b9461",
   "metadata": {},
   "outputs": [
    {
     "data": {
      "text/plain": [
       "-1.8593495795276376"
      ]
     },
     "execution_count": 60,
     "metadata": {},
     "output_type": "execute_result"
    }
   ],
   "source": [
    "import numpy as np\n",
    "# some dumb checks\n",
    "np.log(0.5 / 0.121355) # 1.415887963966969\n",
    "np.log(0.2 / 0.121355) # 0.4995972320928141\n",
    "np.log(0.5 / 1.283912e-02) # 3.6621113383346087\n",
    "np.log(0.2 / 1.283912e-02) # 2.7458206064604536\n",
    "np.log(0.002 / 1.283912e-02) # -1.8593495795276376"
   ]
  },
  {
   "cell_type": "code",
   "execution_count": null,
   "id": "c50b6e0b",
   "metadata": {},
   "outputs": [],
   "source": []
  },
  {
   "cell_type": "code",
   "execution_count": null,
   "id": "dd644f90",
   "metadata": {},
   "outputs": [],
   "source": []
  }
 ],
 "metadata": {
  "kernelspec": {
   "display_name": "venv",
   "language": "python",
   "name": "venv"
  },
  "language_info": {
   "codemirror_mode": {
    "name": "ipython",
    "version": 3
   },
   "file_extension": ".py",
   "mimetype": "text/x-python",
   "name": "python",
   "nbconvert_exporter": "python",
   "pygments_lexer": "ipython3",
   "version": "3.9.10"
  }
 },
 "nbformat": 4,
 "nbformat_minor": 5
}
