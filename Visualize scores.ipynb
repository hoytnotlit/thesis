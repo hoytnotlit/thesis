{
 "cells": [
  {
   "cell_type": "code",
   "execution_count": 1,
   "id": "dfd663cf",
   "metadata": {},
   "outputs": [],
   "source": [
    "import visualize, score\n",
    "import pandas as pd\n",
    "import json\n",
    "import numpy as np\n",
    "import matplotlib.pyplot as plt\n",
    "\n",
    "tokenizer = score.get_tokenizer()\n",
    "\n",
    "def load_scores(file_name):\n",
    "    with open(f\"Results/raw/{file_name}\", \"r\") as f:\n",
    "        scores = json.load(f)\n",
    "    with open(f\"Results/raw/comp_{file_name}\", \"r\") as f2:\n",
    "        comp_scores = json.load(f2)\n",
    "    return scores, comp_scores\n",
    "\n",
    "scores, comp_scores = load_scores(\"short.json\")\n",
    "pos_scores, pos_comp_scores = load_scores(\"pos_short.json\")\n",
    "long_scores, long_comp_scores = load_scores(\"long.json\")\n",
    "long_pos_scores, long_pos_comp_scores = load_scores(\"pos_long.json\")"
   ]
  },
  {
   "cell_type": "code",
   "execution_count": 2,
   "id": "038e2150",
   "metadata": {},
   "outputs": [],
   "source": [
    "# raw/unfiltered data\n",
    "df = visualize.get_df(scores, comp_scores, tokenizer)\n",
    "pos_df = visualize.get_df(pos_scores, pos_comp_scores, tokenizer)\n",
    "long_df = visualize.get_df(long_scores, long_comp_scores, tokenizer)\n",
    "long_pos_df = visualize.get_df(long_pos_scores, long_pos_comp_scores, tokenizer)\n",
    "\n",
    "#df#.loc[df['Bias UNK'] == True].shape[0]"
   ]
  },
  {
   "cell_type": "code",
   "execution_count": 3,
   "id": "568342a9",
   "metadata": {},
   "outputs": [
    {
     "data": {
      "text/html": [
       "<div>\n",
       "<style scoped>\n",
       "    .dataframe tbody tr th:only-of-type {\n",
       "        vertical-align: middle;\n",
       "    }\n",
       "\n",
       "    .dataframe tbody tr th {\n",
       "        vertical-align: top;\n",
       "    }\n",
       "\n",
       "    .dataframe thead th {\n",
       "        text-align: right;\n",
       "    }\n",
       "</style>\n",
       "<table border=\"1\" class=\"dataframe\">\n",
       "  <thead>\n",
       "    <tr style=\"text-align: right;\">\n",
       "      <th></th>\n",
       "      <th>Association</th>\n",
       "      <th>Comp. association</th>\n",
       "      <th>Association_pos</th>\n",
       "      <th>Comp. association_pos</th>\n",
       "    </tr>\n",
       "    <tr>\n",
       "      <th>Ethnicity</th>\n",
       "      <th></th>\n",
       "      <th></th>\n",
       "      <th></th>\n",
       "      <th></th>\n",
       "    </tr>\n",
       "  </thead>\n",
       "  <tbody>\n",
       "    <tr>\n",
       "      <th>fswe</th>\n",
       "      <td>0.15</td>\n",
       "      <td>1.39</td>\n",
       "      <td>0.08</td>\n",
       "      <td>1.43</td>\n",
       "    </tr>\n",
       "    <tr>\n",
       "      <th>roma</th>\n",
       "      <td>1.36</td>\n",
       "      <td>0.83</td>\n",
       "      <td>1.54</td>\n",
       "      <td>1.08</td>\n",
       "    </tr>\n",
       "    <tr>\n",
       "      <th>rus</th>\n",
       "      <td>1.17</td>\n",
       "      <td>1.18</td>\n",
       "      <td>1.44</td>\n",
       "      <td>1.58</td>\n",
       "    </tr>\n",
       "    <tr>\n",
       "      <th>sami</th>\n",
       "      <td>1.14</td>\n",
       "      <td>1.37</td>\n",
       "      <td>1.15</td>\n",
       "      <td>1.16</td>\n",
       "    </tr>\n",
       "    <tr>\n",
       "      <th>som</th>\n",
       "      <td>0.68</td>\n",
       "      <td>0.62</td>\n",
       "      <td>0.74</td>\n",
       "      <td>1.06</td>\n",
       "    </tr>\n",
       "  </tbody>\n",
       "</table>\n",
       "</div>"
      ],
      "text/plain": [
       "           Association  Comp. association  Association_pos  \\\n",
       "Ethnicity                                                    \n",
       "fswe              0.15               1.39             0.08   \n",
       "roma              1.36               0.83             1.54   \n",
       "rus               1.17               1.18             1.44   \n",
       "sami              1.14               1.37             1.15   \n",
       "som               0.68               0.62             0.74   \n",
       "\n",
       "           Comp. association_pos  \n",
       "Ethnicity                         \n",
       "fswe                        1.43  \n",
       "roma                        1.08  \n",
       "rus                         1.58  \n",
       "sami                        1.16  \n",
       "som                         1.06  "
      ]
     },
     "execution_count": 3,
     "metadata": {},
     "output_type": "execute_result"
    },
    {
     "data": {
      "image/png": "[encoded data removed]",
      "text/plain": [
       "<Figure size 432x288 with 1 Axes>"
      ]
     },
     "metadata": {
      "needs_background": "light"
     },
     "output_type": "display_data"
    }
   ],
   "source": [
    "#.to_latex(index=False)\n",
    "eth_means = visualize.get_nat_means(df, \"eth_means.tex\")\n",
    "visualize.get_eth_mean_chart(eth_means, \"eth_means.tex\")\n",
    "eth_means.merge(visualize.get_nat_means(pos_df), right_index=True, left_index=True, suffixes=(\"\", \"_pos\"))"
   ]
  },
  {
   "cell_type": "code",
   "execution_count": 4,
   "id": "613be3ae",
   "metadata": {},
   "outputs": [
    {
     "data": {
      "text/html": [
       "<div>\n",
       "<style scoped>\n",
       "    .dataframe tbody tr th:only-of-type {\n",
       "        vertical-align: middle;\n",
       "    }\n",
       "\n",
       "    .dataframe tbody tr th {\n",
       "        vertical-align: top;\n",
       "    }\n",
       "\n",
       "    .dataframe thead th {\n",
       "        text-align: right;\n",
       "    }\n",
       "</style>\n",
       "<table border=\"1\" class=\"dataframe\">\n",
       "  <thead>\n",
       "    <tr style=\"text-align: right;\">\n",
       "      <th></th>\n",
       "      <th>Association</th>\n",
       "      <th>Comp. association</th>\n",
       "      <th>Association_pos</th>\n",
       "      <th>Comp. association_pos</th>\n",
       "    </tr>\n",
       "    <tr>\n",
       "      <th>Ethnicity</th>\n",
       "      <th></th>\n",
       "      <th></th>\n",
       "      <th></th>\n",
       "      <th></th>\n",
       "    </tr>\n",
       "  </thead>\n",
       "  <tbody>\n",
       "    <tr>\n",
       "      <th>fswe</th>\n",
       "      <td>0.67</td>\n",
       "      <td>0.52</td>\n",
       "      <td>0.35</td>\n",
       "      <td>0.28</td>\n",
       "    </tr>\n",
       "    <tr>\n",
       "      <th>roma</th>\n",
       "      <td>0.63</td>\n",
       "      <td>0.37</td>\n",
       "      <td>0.25</td>\n",
       "      <td>0.29</td>\n",
       "    </tr>\n",
       "    <tr>\n",
       "      <th>rus</th>\n",
       "      <td>0.27</td>\n",
       "      <td>0.40</td>\n",
       "      <td>-0.39</td>\n",
       "      <td>0.03</td>\n",
       "    </tr>\n",
       "    <tr>\n",
       "      <th>sami</th>\n",
       "      <td>-0.10</td>\n",
       "      <td>0.67</td>\n",
       "      <td>-0.21</td>\n",
       "      <td>0.25</td>\n",
       "    </tr>\n",
       "    <tr>\n",
       "      <th>som</th>\n",
       "      <td>0.93</td>\n",
       "      <td>0.49</td>\n",
       "      <td>0.78</td>\n",
       "      <td>0.69</td>\n",
       "    </tr>\n",
       "  </tbody>\n",
       "</table>\n",
       "</div>"
      ],
      "text/plain": [
       "           Association  Comp. association  Association_pos  \\\n",
       "Ethnicity                                                    \n",
       "fswe              0.67               0.52             0.35   \n",
       "roma              0.63               0.37             0.25   \n",
       "rus               0.27               0.40            -0.39   \n",
       "sami             -0.10               0.67            -0.21   \n",
       "som               0.93               0.49             0.78   \n",
       "\n",
       "           Comp. association_pos  \n",
       "Ethnicity                         \n",
       "fswe                        0.28  \n",
       "roma                        0.29  \n",
       "rus                         0.03  \n",
       "sami                        0.25  \n",
       "som                         0.69  "
      ]
     },
     "execution_count": 4,
     "metadata": {},
     "output_type": "execute_result"
    },
    {
     "data": {
      "image/png": "[encoded data removed]",
      "text/plain": [
       "<Figure size 432x288 with 1 Axes>"
      ]
     },
     "metadata": {
      "needs_background": "light"
     },
     "output_type": "display_data"
    }
   ],
   "source": [
    "long_eth_means = visualize.get_nat_means(long_df, \"long_eth_means.tex\")\n",
    "visualize.get_eth_mean_chart(long_eth_means, \"long_eth_means.tex\")\n",
    "long_eth_means.merge(visualize.get_nat_means(long_pos_df), right_index=True, left_index=True, suffixes=(\"\", \"_pos\"))"
   ]
  },
  {
   "cell_type": "code",
   "execution_count": 5,
   "id": "d534757d",
   "metadata": {},
   "outputs": [
    {
     "data": {
      "image/png": "[encoded data removed]",
      "text/plain": [
       "<Figure size 432x288 with 1 Axes>"
      ]
     },
     "metadata": {
      "needs_background": "light"
     },
     "output_type": "display_data"
    }
   ],
   "source": [
    "# combine short+long scores\n",
    "comb = pd.concat((df, long_df))\n",
    "comb.groupby(comb.index).mean()\n",
    "\n",
    "comb_eth_means = visualize.get_nat_means(comb, \"comb_eth_means.tex\")\n",
    "visualize.get_eth_mean_chart(comb_eth_means, \"comb_eth_means.tex\")"
   ]
  },
  {
   "cell_type": "code",
   "execution_count": 6,
   "id": "d1d3cbf6",
   "metadata": {},
   "outputs": [
    {
     "data": {
      "text/html": [
       "<div>\n",
       "<style scoped>\n",
       "    .dataframe tbody tr th:only-of-type {\n",
       "        vertical-align: middle;\n",
       "    }\n",
       "\n",
       "    .dataframe tbody tr th {\n",
       "        vertical-align: top;\n",
       "    }\n",
       "\n",
       "    .dataframe thead th {\n",
       "        text-align: right;\n",
       "    }\n",
       "</style>\n",
       "<table border=\"1\" class=\"dataframe\">\n",
       "  <thead>\n",
       "    <tr style=\"text-align: right;\">\n",
       "      <th></th>\n",
       "      <th></th>\n",
       "      <th>Association</th>\n",
       "      <th>Comp. association</th>\n",
       "    </tr>\n",
       "    <tr>\n",
       "      <th>Ethnicity</th>\n",
       "      <th>Bias</th>\n",
       "      <th></th>\n",
       "      <th></th>\n",
       "    </tr>\n",
       "  </thead>\n",
       "  <tbody>\n",
       "    <tr>\n",
       "      <th rowspan=\"5\" valign=\"top\">fswe</th>\n",
       "      <th>homo</th>\n",
       "      <td>2.30</td>\n",
       "      <td>1.59</td>\n",
       "    </tr>\n",
       "    <tr>\n",
       "      <th>parempi</th>\n",
       "      <td>0.51</td>\n",
       "      <td>-0.24</td>\n",
       "    </tr>\n",
       "    <tr>\n",
       "      <th>rikas</th>\n",
       "      <td>1.70</td>\n",
       "      <td>1.23</td>\n",
       "    </tr>\n",
       "    <tr>\n",
       "      <th>terve</th>\n",
       "      <td>2.00</td>\n",
       "      <td>1.22</td>\n",
       "    </tr>\n",
       "    <tr>\n",
       "      <th>ylimielinen</th>\n",
       "      <td>1.21</td>\n",
       "      <td>1.05</td>\n",
       "    </tr>\n",
       "    <tr>\n",
       "      <th rowspan=\"5\" valign=\"top\">roma</th>\n",
       "      <th>juoppo</th>\n",
       "      <td>1.79</td>\n",
       "      <td>1.31</td>\n",
       "    </tr>\n",
       "    <tr>\n",
       "      <th>rikollinen</th>\n",
       "      <td>2.07</td>\n",
       "      <td>0.53</td>\n",
       "    </tr>\n",
       "    <tr>\n",
       "      <th>työtön</th>\n",
       "      <td>1.83</td>\n",
       "      <td>0.97</td>\n",
       "    </tr>\n",
       "    <tr>\n",
       "      <th>vaarallinen</th>\n",
       "      <td>1.22</td>\n",
       "      <td>-0.06</td>\n",
       "    </tr>\n",
       "    <tr>\n",
       "      <th>varas</th>\n",
       "      <td>2.12</td>\n",
       "      <td>0.51</td>\n",
       "    </tr>\n",
       "    <tr>\n",
       "      <th rowspan=\"7\" valign=\"top\">rus</th>\n",
       "      <th>aggressiivinen</th>\n",
       "      <td>2.23</td>\n",
       "      <td>1.17</td>\n",
       "    </tr>\n",
       "    <tr>\n",
       "      <th>alkoholisti</th>\n",
       "      <td>1.68</td>\n",
       "      <td>0.86</td>\n",
       "    </tr>\n",
       "    <tr>\n",
       "      <th>juoppo</th>\n",
       "      <td>1.51</td>\n",
       "      <td>0.78</td>\n",
       "    </tr>\n",
       "    <tr>\n",
       "      <th>laiska</th>\n",
       "      <td>1.14</td>\n",
       "      <td>0.66</td>\n",
       "    </tr>\n",
       "    <tr>\n",
       "      <th>rikollinen</th>\n",
       "      <td>1.48</td>\n",
       "      <td>0.53</td>\n",
       "    </tr>\n",
       "    <tr>\n",
       "      <th>työtön</th>\n",
       "      <td>1.90</td>\n",
       "      <td>0.97</td>\n",
       "    </tr>\n",
       "    <tr>\n",
       "      <th>valittava</th>\n",
       "      <td>0.47</td>\n",
       "      <td>-0.17</td>\n",
       "    </tr>\n",
       "    <tr>\n",
       "      <th rowspan=\"5\" valign=\"top\">sami</th>\n",
       "      <th>juoppo</th>\n",
       "      <td>1.01</td>\n",
       "      <td>0.78</td>\n",
       "    </tr>\n",
       "    <tr>\n",
       "      <th>likainen</th>\n",
       "      <td>1.86</td>\n",
       "      <td>1.24</td>\n",
       "    </tr>\n",
       "    <tr>\n",
       "      <th>noita</th>\n",
       "      <td>1.24</td>\n",
       "      <td>1.01</td>\n",
       "    </tr>\n",
       "    <tr>\n",
       "      <th>tumma</th>\n",
       "      <td>3.02</td>\n",
       "      <td>1.52</td>\n",
       "    </tr>\n",
       "    <tr>\n",
       "      <th>tyhmä</th>\n",
       "      <td>2.49</td>\n",
       "      <td>2.32</td>\n",
       "    </tr>\n",
       "    <tr>\n",
       "      <th rowspan=\"6\" valign=\"top\">som</th>\n",
       "      <th>aggressiivinen</th>\n",
       "      <td>1.59</td>\n",
       "      <td>0.75</td>\n",
       "    </tr>\n",
       "    <tr>\n",
       "      <th>rikollinen</th>\n",
       "      <td>1.72</td>\n",
       "      <td>0.86</td>\n",
       "    </tr>\n",
       "    <tr>\n",
       "      <th>uhka</th>\n",
       "      <td>0.46</td>\n",
       "      <td>0.16</td>\n",
       "    </tr>\n",
       "    <tr>\n",
       "      <th>uhri</th>\n",
       "      <td>1.03</td>\n",
       "      <td>0.43</td>\n",
       "    </tr>\n",
       "    <tr>\n",
       "      <th>varas</th>\n",
       "      <td>1.09</td>\n",
       "      <td>0.51</td>\n",
       "    </tr>\n",
       "    <tr>\n",
       "      <th>väkivaltainen</th>\n",
       "      <td>1.82</td>\n",
       "      <td>1.13</td>\n",
       "    </tr>\n",
       "  </tbody>\n",
       "</table>\n",
       "</div>"
      ],
      "text/plain": [
       "                          Association  Comp. association\n",
       "Ethnicity Bias                                          \n",
       "fswe      homo                   2.30               1.59\n",
       "          parempi                0.51              -0.24\n",
       "          rikas                  1.70               1.23\n",
       "          terve                  2.00               1.22\n",
       "          ylimielinen            1.21               1.05\n",
       "roma      juoppo                 1.79               1.31\n",
       "          rikollinen             2.07               0.53\n",
       "          työtön                 1.83               0.97\n",
       "          vaarallinen            1.22              -0.06\n",
       "          varas                  2.12               0.51\n",
       "rus       aggressiivinen         2.23               1.17\n",
       "          alkoholisti            1.68               0.86\n",
       "          juoppo                 1.51               0.78\n",
       "          laiska                 1.14               0.66\n",
       "          rikollinen             1.48               0.53\n",
       "          työtön                 1.90               0.97\n",
       "          valittava              0.47              -0.17\n",
       "sami      juoppo                 1.01               0.78\n",
       "          likainen               1.86               1.24\n",
       "          noita                  1.24               1.01\n",
       "          tumma                  3.02               1.52\n",
       "          tyhmä                  2.49               2.32\n",
       "som       aggressiivinen         1.59               0.75\n",
       "          rikollinen             1.72               0.86\n",
       "          uhka                   0.46               0.16\n",
       "          uhri                   1.03               0.43\n",
       "          varas                  1.09               0.51\n",
       "          väkivaltainen          1.82               1.13"
      ]
     },
     "execution_count": 6,
     "metadata": {},
     "output_type": "execute_result"
    },
    {
     "data": {
      "image/png": "[encoded data removed]",
      "text/plain": [
       "<Figure size 432x288 with 1 Axes>"
      ]
     },
     "metadata": {
      "needs_background": "light"
     },
     "output_type": "display_data"
    },
    {
     "data": {
      "image/png": "[encoded data removed]",
      "text/plain": [
       "<Figure size 432x288 with 1 Axes>"
      ]
     },
     "metadata": {
      "needs_background": "light"
     },
     "output_type": "display_data"
    },
    {
     "data": {
      "image/png": "[encoded data removed]",
      "text/plain": [
       "<Figure size 432x288 with 1 Axes>"
      ]
     },
     "metadata": {
      "needs_background": "light"
     },
     "output_type": "display_data"
    },
    {
     "data": {
      "image/png": "[encoded data removed]",
      "text/plain": [
       "<Figure size 432x288 with 1 Axes>"
      ]
     },
     "metadata": {
      "needs_background": "light"
     },
     "output_type": "display_data"
    },
    {
     "data": {
      "image/png": "[encoded data removed]",
      "text/plain": [
       "<Figure size 432x288 with 1 Axes>"
      ]
     },
     "metadata": {
      "needs_background": "light"
     },
     "output_type": "display_data"
    }
   ],
   "source": [
    "visualize.get_bias_means(df, file_name=\"bias_means.tex\", no_unk=True, only_biased=True)\n",
    "# 28 / 50 biased terms are in vocab\n",
    "# TODO How many of in vocab words are biased?\n",
    "# TODO could these be visualised clearer with out comparisons core?"
   ]
  },
  {
   "cell_type": "code",
   "execution_count": 7,
   "id": "82d90d20",
   "metadata": {},
   "outputs": [
    {
     "data": {
      "text/html": [
       "<div>\n",
       "<style scoped>\n",
       "    .dataframe tbody tr th:only-of-type {\n",
       "        vertical-align: middle;\n",
       "    }\n",
       "\n",
       "    .dataframe tbody tr th {\n",
       "        vertical-align: top;\n",
       "    }\n",
       "\n",
       "    .dataframe thead th {\n",
       "        text-align: right;\n",
       "    }\n",
       "</style>\n",
       "<table border=\"1\" class=\"dataframe\">\n",
       "  <thead>\n",
       "    <tr style=\"text-align: right;\">\n",
       "      <th></th>\n",
       "      <th></th>\n",
       "      <th>Association</th>\n",
       "      <th>Comp. association</th>\n",
       "    </tr>\n",
       "    <tr>\n",
       "      <th>Ethnicity</th>\n",
       "      <th>Bias</th>\n",
       "      <th></th>\n",
       "      <th></th>\n",
       "    </tr>\n",
       "  </thead>\n",
       "  <tbody>\n",
       "    <tr>\n",
       "      <th rowspan=\"5\" valign=\"top\">fswe</th>\n",
       "      <th>homo</th>\n",
       "      <td>0.84</td>\n",
       "      <td>0.40</td>\n",
       "    </tr>\n",
       "    <tr>\n",
       "      <th>parempi</th>\n",
       "      <td>1.58</td>\n",
       "      <td>0.82</td>\n",
       "    </tr>\n",
       "    <tr>\n",
       "      <th>rikas</th>\n",
       "      <td>0.61</td>\n",
       "      <td>0.40</td>\n",
       "    </tr>\n",
       "    <tr>\n",
       "      <th>terve</th>\n",
       "      <td>0.76</td>\n",
       "      <td>0.52</td>\n",
       "    </tr>\n",
       "    <tr>\n",
       "      <th>ylimielinen</th>\n",
       "      <td>1.02</td>\n",
       "      <td>0.64</td>\n",
       "    </tr>\n",
       "    <tr>\n",
       "      <th rowspan=\"5\" valign=\"top\">roma</th>\n",
       "      <th>juoppo</th>\n",
       "      <td>1.24</td>\n",
       "      <td>0.48</td>\n",
       "    </tr>\n",
       "    <tr>\n",
       "      <th>rikollinen</th>\n",
       "      <td>1.78</td>\n",
       "      <td>0.72</td>\n",
       "    </tr>\n",
       "    <tr>\n",
       "      <th>työtön</th>\n",
       "      <td>0.41</td>\n",
       "      <td>-0.24</td>\n",
       "    </tr>\n",
       "    <tr>\n",
       "      <th>vaarallinen</th>\n",
       "      <td>1.47</td>\n",
       "      <td>0.82</td>\n",
       "    </tr>\n",
       "    <tr>\n",
       "      <th>varas</th>\n",
       "      <td>0.72</td>\n",
       "      <td>-0.09</td>\n",
       "    </tr>\n",
       "    <tr>\n",
       "      <th rowspan=\"7\" valign=\"top\">rus</th>\n",
       "      <th>aggressiivinen</th>\n",
       "      <td>0.75</td>\n",
       "      <td>0.48</td>\n",
       "    </tr>\n",
       "    <tr>\n",
       "      <th>alkoholisti</th>\n",
       "      <td>2.29</td>\n",
       "      <td>1.90</td>\n",
       "    </tr>\n",
       "    <tr>\n",
       "      <th>juoppo</th>\n",
       "      <td>2.50</td>\n",
       "      <td>2.02</td>\n",
       "    </tr>\n",
       "    <tr>\n",
       "      <th>laiska</th>\n",
       "      <td>0.45</td>\n",
       "      <td>0.27</td>\n",
       "    </tr>\n",
       "    <tr>\n",
       "      <th>rikollinen</th>\n",
       "      <td>1.25</td>\n",
       "      <td>0.88</td>\n",
       "    </tr>\n",
       "    <tr>\n",
       "      <th>työtön</th>\n",
       "      <td>-0.06</td>\n",
       "      <td>-0.48</td>\n",
       "    </tr>\n",
       "    <tr>\n",
       "      <th>valittava</th>\n",
       "      <td>0.40</td>\n",
       "      <td>-0.23</td>\n",
       "    </tr>\n",
       "    <tr>\n",
       "      <th>sami</th>\n",
       "      <th>tumma</th>\n",
       "      <td>0.48</td>\n",
       "      <td>0.30</td>\n",
       "    </tr>\n",
       "    <tr>\n",
       "      <th rowspan=\"8\" valign=\"top\">som</th>\n",
       "      <th>aggressiivinen</th>\n",
       "      <td>0.71</td>\n",
       "      <td>0.40</td>\n",
       "    </tr>\n",
       "    <tr>\n",
       "      <th>rikollinen</th>\n",
       "      <td>1.67</td>\n",
       "      <td>0.72</td>\n",
       "    </tr>\n",
       "    <tr>\n",
       "      <th>tyhmä</th>\n",
       "      <td>1.08</td>\n",
       "      <td>0.81</td>\n",
       "    </tr>\n",
       "    <tr>\n",
       "      <th>uhka</th>\n",
       "      <td>0.64</td>\n",
       "      <td>-0.14</td>\n",
       "    </tr>\n",
       "    <tr>\n",
       "      <th>uhri</th>\n",
       "      <td>0.80</td>\n",
       "      <td>0.30</td>\n",
       "    </tr>\n",
       "    <tr>\n",
       "      <th>varas</th>\n",
       "      <td>0.50</td>\n",
       "      <td>-0.10</td>\n",
       "    </tr>\n",
       "    <tr>\n",
       "      <th>väkivaltainen</th>\n",
       "      <td>1.45</td>\n",
       "      <td>0.57</td>\n",
       "    </tr>\n",
       "    <tr>\n",
       "      <th>yksinkertainen</th>\n",
       "      <td>0.01</td>\n",
       "      <td>-0.05</td>\n",
       "    </tr>\n",
       "  </tbody>\n",
       "</table>\n",
       "</div>"
      ],
      "text/plain": [
       "                          Association  Comp. association\n",
       "Ethnicity Bias                                          \n",
       "fswe      homo                   0.84               0.40\n",
       "          parempi                1.58               0.82\n",
       "          rikas                  0.61               0.40\n",
       "          terve                  0.76               0.52\n",
       "          ylimielinen            1.02               0.64\n",
       "roma      juoppo                 1.24               0.48\n",
       "          rikollinen             1.78               0.72\n",
       "          työtön                 0.41              -0.24\n",
       "          vaarallinen            1.47               0.82\n",
       "          varas                  0.72              -0.09\n",
       "rus       aggressiivinen         0.75               0.48\n",
       "          alkoholisti            2.29               1.90\n",
       "          juoppo                 2.50               2.02\n",
       "          laiska                 0.45               0.27\n",
       "          rikollinen             1.25               0.88\n",
       "          työtön                -0.06              -0.48\n",
       "          valittava              0.40              -0.23\n",
       "sami      tumma                  0.48               0.30\n",
       "som       aggressiivinen         0.71               0.40\n",
       "          rikollinen             1.67               0.72\n",
       "          tyhmä                  1.08               0.81\n",
       "          uhka                   0.64              -0.14\n",
       "          uhri                   0.80               0.30\n",
       "          varas                  0.50              -0.10\n",
       "          väkivaltainen          1.45               0.57\n",
       "          yksinkertainen         0.01              -0.05"
      ]
     },
     "execution_count": 7,
     "metadata": {},
     "output_type": "execute_result"
    },
    {
     "data": {
      "image/png": "[encoded data removed]",
      "text/plain": [
       "<Figure size 432x288 with 1 Axes>"
      ]
     },
     "metadata": {
      "needs_background": "light"
     },
     "output_type": "display_data"
    },
    {
     "data": {
      "image/png": "[encoded data removed]",
      "text/plain": [
       "<Figure size 432x288 with 1 Axes>"
      ]
     },
     "metadata": {
      "needs_background": "light"
     },
     "output_type": "display_data"
    },
    {
     "data": {
      "image/png": "[encoded data removed]",
      "text/plain": [
       "<Figure size 432x288 with 1 Axes>"
      ]
     },
     "metadata": {
      "needs_background": "light"
     },
     "output_type": "display_data"
    },
    {
     "data": {
      "image/png": "[encoded data removed]",
      "text/plain": [
       "<Figure size 432x288 with 1 Axes>"
      ]
     },
     "metadata": {
      "needs_background": "light"
     },
     "output_type": "display_data"
    },
    {
     "data": {
      "image/png": "[encoded data removed]",
      "text/plain": [
       "<Figure size 432x288 with 1 Axes>"
      ]
     },
     "metadata": {
      "needs_background": "light"
     },
     "output_type": "display_data"
    }
   ],
   "source": [
    "visualize.get_bias_means(long_df, file_name=\"long_bias_means.tex\", no_unk=True, only_biased=True)"
   ]
  },
  {
   "cell_type": "code",
   "execution_count": 8,
   "id": "bab30ca7",
   "metadata": {},
   "outputs": [
    {
     "ename": "NameError",
     "evalue": "free variable 'entities' referenced before assignment in enclosing scope",
     "output_type": "error",
     "traceback": [
      "\u001b[0;31m---------------------------------------------------------------------------\u001b[0m",
      "\u001b[0;31mNameError\u001b[0m                                 Traceback (most recent call last)",
      "\u001b[0;32m/tmp/ipykernel_571730/667812225.py\u001b[0m in \u001b[0;36m<module>\u001b[0;34m\u001b[0m\n\u001b[1;32m      1\u001b[0m \u001b[0mvisualize\u001b[0m\u001b[0;34m.\u001b[0m\u001b[0mget_ent_means\u001b[0m\u001b[0;34m(\u001b[0m\u001b[0mdf\u001b[0m\u001b[0;34m,\u001b[0m \u001b[0mfile_name\u001b[0m\u001b[0;34m=\u001b[0m\u001b[0;34m\"ent_means.tex\"\u001b[0m\u001b[0;34m)\u001b[0m\u001b[0;34m\u001b[0m\u001b[0;34m\u001b[0m\u001b[0m\n\u001b[1;32m      2\u001b[0m \u001b[0;31m# combine/ group by entity to get total entity association means?\u001b[0m\u001b[0;34m\u001b[0m\u001b[0;34m\u001b[0m\u001b[0m\n\u001b[0;32m----> 3\u001b[0;31m \u001b[0mvisualize\u001b[0m\u001b[0;34m.\u001b[0m\u001b[0msave_ent_mean_chart\u001b[0m\u001b[0;34m(\u001b[0m\u001b[0mdf\u001b[0m\u001b[0;34m,\u001b[0m \u001b[0;34m\"ent_means.tex\"\u001b[0m\u001b[0;34m)\u001b[0m\u001b[0;34m\u001b[0m\u001b[0;34m\u001b[0m\u001b[0m\n\u001b[0m\u001b[1;32m      4\u001b[0m \u001b[0;34m\u001b[0m\u001b[0m\n\u001b[1;32m      5\u001b[0m \u001b[0;31m# TODO maybe highlight some top cases instead of all the scores? Or add bars for each ethnicity\u001b[0m\u001b[0;34m\u001b[0m\u001b[0;34m\u001b[0m\u001b[0m\n",
      "\u001b[0;32m~/thesis/visualize.py\u001b[0m in \u001b[0;36msave_ent_mean_chart\u001b[0;34m(df, file_name)\u001b[0m\n\u001b[1;32m    110\u001b[0m     \u001b[0mdf\u001b[0m \u001b[0;34m=\u001b[0m \u001b[0mdf\u001b[0m\u001b[0;34m.\u001b[0m\u001b[0mgroupby\u001b[0m\u001b[0;34m(\u001b[0m\u001b[0;34m[\u001b[0m\u001b[0;34m'Entity'\u001b[0m\u001b[0;34m]\u001b[0m\u001b[0;34m)\u001b[0m\u001b[0;34m[\u001b[0m\u001b[0;34m[\u001b[0m\u001b[0;34m'Association'\u001b[0m\u001b[0;34m,\u001b[0m \u001b[0;34m'Comp. association'\u001b[0m\u001b[0;34m]\u001b[0m\u001b[0;34m]\u001b[0m\u001b[0;34m.\u001b[0m\u001b[0mmean\u001b[0m\u001b[0;34m(\u001b[0m\u001b[0;34m)\u001b[0m\u001b[0;34m.\u001b[0m\u001b[0mround\u001b[0m\u001b[0;34m(\u001b[0m\u001b[0mdes_l\u001b[0m\u001b[0;34m)\u001b[0m\u001b[0;34m\u001b[0m\u001b[0;34m\u001b[0m\u001b[0m\n\u001b[1;32m    111\u001b[0m     \u001b[0mdata\u001b[0m \u001b[0;34m=\u001b[0m \u001b[0;34m[\u001b[0m\u001b[0mdf\u001b[0m\u001b[0;34m[\u001b[0m\u001b[0;34m'Association'\u001b[0m\u001b[0;34m]\u001b[0m\u001b[0;34m.\u001b[0m\u001b[0mto_list\u001b[0m\u001b[0;34m(\u001b[0m\u001b[0;34m)\u001b[0m\u001b[0;34m,\u001b[0m \u001b[0mdf\u001b[0m\u001b[0;34m[\u001b[0m\u001b[0;34m'Comp. association'\u001b[0m\u001b[0;34m]\u001b[0m\u001b[0;34m.\u001b[0m\u001b[0mto_list\u001b[0m\u001b[0;34m(\u001b[0m\u001b[0;34m)\u001b[0m\u001b[0;34m]\u001b[0m\u001b[0;34m\u001b[0m\u001b[0;34m\u001b[0m\u001b[0m\n\u001b[0;32m--> 112\u001b[0;31m     \u001b[0mentities\u001b[0m \u001b[0;34m=\u001b[0m \u001b[0;34m[\u001b[0m\u001b[0mentities_en\u001b[0m\u001b[0;34m[\u001b[0m\u001b[0mc\u001b[0m\u001b[0;34m]\u001b[0m \u001b[0;32mif\u001b[0m \u001b[0mc\u001b[0m \u001b[0;32min\u001b[0m \u001b[0mentities\u001b[0m \u001b[0;32melse\u001b[0m \u001b[0mc\u001b[0m \u001b[0;32mfor\u001b[0m \u001b[0mc\u001b[0m \u001b[0;32min\u001b[0m \u001b[0mdf\u001b[0m\u001b[0;34m.\u001b[0m\u001b[0mT\u001b[0m\u001b[0;34m.\u001b[0m\u001b[0mcolumns\u001b[0m\u001b[0;34m.\u001b[0m\u001b[0mto_list\u001b[0m\u001b[0;34m(\u001b[0m\u001b[0;34m)\u001b[0m\u001b[0;34m]\u001b[0m\u001b[0;34m\u001b[0m\u001b[0;34m\u001b[0m\u001b[0m\n\u001b[0m\u001b[1;32m    113\u001b[0m \u001b[0;34m\u001b[0m\u001b[0m\n\u001b[1;32m    114\u001b[0m     \u001b[0mX\u001b[0m \u001b[0;34m=\u001b[0m \u001b[0mnp\u001b[0m\u001b[0;34m.\u001b[0m\u001b[0marange\u001b[0m\u001b[0;34m(\u001b[0m\u001b[0mlen\u001b[0m\u001b[0;34m(\u001b[0m\u001b[0mdata\u001b[0m\u001b[0;34m[\u001b[0m\u001b[0;36m0\u001b[0m\u001b[0;34m]\u001b[0m\u001b[0;34m)\u001b[0m\u001b[0;34m)\u001b[0m\u001b[0;34m\u001b[0m\u001b[0;34m\u001b[0m\u001b[0m\n",
      "\u001b[0;32m~/thesis/visualize.py\u001b[0m in \u001b[0;36m<listcomp>\u001b[0;34m(.0)\u001b[0m\n\u001b[1;32m    110\u001b[0m     \u001b[0mdf\u001b[0m \u001b[0;34m=\u001b[0m \u001b[0mdf\u001b[0m\u001b[0;34m.\u001b[0m\u001b[0mgroupby\u001b[0m\u001b[0;34m(\u001b[0m\u001b[0;34m[\u001b[0m\u001b[0;34m'Entity'\u001b[0m\u001b[0;34m]\u001b[0m\u001b[0;34m)\u001b[0m\u001b[0;34m[\u001b[0m\u001b[0;34m[\u001b[0m\u001b[0;34m'Association'\u001b[0m\u001b[0;34m,\u001b[0m \u001b[0;34m'Comp. association'\u001b[0m\u001b[0;34m]\u001b[0m\u001b[0;34m]\u001b[0m\u001b[0;34m.\u001b[0m\u001b[0mmean\u001b[0m\u001b[0;34m(\u001b[0m\u001b[0;34m)\u001b[0m\u001b[0;34m.\u001b[0m\u001b[0mround\u001b[0m\u001b[0;34m(\u001b[0m\u001b[0mdes_l\u001b[0m\u001b[0;34m)\u001b[0m\u001b[0;34m\u001b[0m\u001b[0;34m\u001b[0m\u001b[0m\n\u001b[1;32m    111\u001b[0m     \u001b[0mdata\u001b[0m \u001b[0;34m=\u001b[0m \u001b[0;34m[\u001b[0m\u001b[0mdf\u001b[0m\u001b[0;34m[\u001b[0m\u001b[0;34m'Association'\u001b[0m\u001b[0;34m]\u001b[0m\u001b[0;34m.\u001b[0m\u001b[0mto_list\u001b[0m\u001b[0;34m(\u001b[0m\u001b[0;34m)\u001b[0m\u001b[0;34m,\u001b[0m \u001b[0mdf\u001b[0m\u001b[0;34m[\u001b[0m\u001b[0;34m'Comp. association'\u001b[0m\u001b[0;34m]\u001b[0m\u001b[0;34m.\u001b[0m\u001b[0mto_list\u001b[0m\u001b[0;34m(\u001b[0m\u001b[0;34m)\u001b[0m\u001b[0;34m]\u001b[0m\u001b[0;34m\u001b[0m\u001b[0;34m\u001b[0m\u001b[0m\n\u001b[0;32m--> 112\u001b[0;31m     \u001b[0mentities\u001b[0m \u001b[0;34m=\u001b[0m \u001b[0;34m[\u001b[0m\u001b[0mentities_en\u001b[0m\u001b[0;34m[\u001b[0m\u001b[0mc\u001b[0m\u001b[0;34m]\u001b[0m \u001b[0;32mif\u001b[0m \u001b[0mc\u001b[0m \u001b[0;32min\u001b[0m \u001b[0mentities\u001b[0m \u001b[0;32melse\u001b[0m \u001b[0mc\u001b[0m \u001b[0;32mfor\u001b[0m \u001b[0mc\u001b[0m \u001b[0;32min\u001b[0m \u001b[0mdf\u001b[0m\u001b[0;34m.\u001b[0m\u001b[0mT\u001b[0m\u001b[0;34m.\u001b[0m\u001b[0mcolumns\u001b[0m\u001b[0;34m.\u001b[0m\u001b[0mto_list\u001b[0m\u001b[0;34m(\u001b[0m\u001b[0;34m)\u001b[0m\u001b[0;34m]\u001b[0m\u001b[0;34m\u001b[0m\u001b[0;34m\u001b[0m\u001b[0m\n\u001b[0m\u001b[1;32m    113\u001b[0m \u001b[0;34m\u001b[0m\u001b[0m\n\u001b[1;32m    114\u001b[0m     \u001b[0mX\u001b[0m \u001b[0;34m=\u001b[0m \u001b[0mnp\u001b[0m\u001b[0;34m.\u001b[0m\u001b[0marange\u001b[0m\u001b[0;34m(\u001b[0m\u001b[0mlen\u001b[0m\u001b[0;34m(\u001b[0m\u001b[0mdata\u001b[0m\u001b[0;34m[\u001b[0m\u001b[0;36m0\u001b[0m\u001b[0;34m]\u001b[0m\u001b[0;34m)\u001b[0m\u001b[0;34m)\u001b[0m\u001b[0;34m\u001b[0m\u001b[0;34m\u001b[0m\u001b[0m\n",
      "\u001b[0;31mNameError\u001b[0m: free variable 'entities' referenced before assignment in enclosing scope"
     ]
    }
   ],
   "source": [
    "visualize.get_ent_means(df, file_name=\"ent_means.tex\")\n",
    "# combine/ group by entity to get total entity association means?\n",
    "visualize.save_ent_mean_chart(df, \"ent_means.tex\")\n",
    "\n",
    "# TODO maybe highlight some top cases instead of all the scores? Or add bars for each ethnicity\n",
    "# TODO get and compare score differences?\n",
    "# TODO translate entities"
   ]
  },
  {
   "cell_type": "code",
   "execution_count": null,
   "id": "fd31bd0e",
   "metadata": {},
   "outputs": [],
   "source": [
    "visualize.get_ent_means(long_df, file_name=\"long_ent_means.tex\")\n",
    "visualize.save_ent_mean_chart(long_df, \"long_ent_means.tex\")"
   ]
  },
  {
   "cell_type": "code",
   "execution_count": null,
   "id": "78f4497b",
   "metadata": {},
   "outputs": [],
   "source": []
  }
 ],
 "metadata": {
  "kernelspec": {
   "display_name": "Python 3 (ipykernel)",
   "language": "python",
   "name": "python3"
  },
  "language_info": {
   "codemirror_mode": {
    "name": "ipython",
    "version": 3
   },
   "file_extension": ".py",
   "mimetype": "text/x-python",
   "name": "python",
   "nbconvert_exporter": "python",
   "pygments_lexer": "ipython3",
   "version": "3.9.10"
  }
 },
 "nbformat": 4,
 "nbformat_minor": 5
}
