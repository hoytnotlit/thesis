{
 "cells": [
  {
   "cell_type": "code",
   "execution_count": 16,
   "id": "921c0628",
   "metadata": {},
   "outputs": [],
   "source": [
    "# TODO open files in root and make keys, open files in en and make value\n",
    "import os\n",
    "import json\n",
    "\n",
    "dict_en = {}\n",
    "directory = os.fsencode('en')\n",
    "    \n",
    "for file in os.listdir(\".\"):\n",
    "    filename = os.fsdecode(file)\n",
    "\n",
    "    if filename.endswith(\".txt\"):\n",
    "        with open(filename, 'r') as fin, open(f\"en/{filename}\", 'r') as en:\n",
    "            keys = [l.strip() for l in fin]\n",
    "            values = [l.strip() for l in en]\n",
    "            dict_en = {k: values[i] for i, k in enumerate(keys)} | dict_en\n",
    "        \n",
    "with open(f\"en/en.json\", \"w\") as f:\n",
    "    json.dump(dict_en, f)"
   ]
  },
  {
   "cell_type": "code",
   "execution_count": null,
   "id": "1d9c1a61",
   "metadata": {},
   "outputs": [],
   "source": []
  }
 ],
 "metadata": {
  "kernelspec": {
   "display_name": "Python 3 (ipykernel)",
   "language": "python",
   "name": "python3"
  },
  "language_info": {
   "codemirror_mode": {
    "name": "ipython",
    "version": 3
   },
   "file_extension": ".py",
   "mimetype": "text/x-python",
   "name": "python",
   "nbconvert_exporter": "python",
   "pygments_lexer": "ipython3",
   "version": "3.9.10"
  }
 },
 "nbformat": 4,
 "nbformat_minor": 5
}
