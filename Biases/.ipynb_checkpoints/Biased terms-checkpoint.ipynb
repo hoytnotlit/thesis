{
 "cells": [
  {
   "cell_type": "code",
   "execution_count": 2,
   "id": "17e6560d",
   "metadata": {},
   "outputs": [],
   "source": [
    "ethnicities = ['swe',\n",
    "'sami',\n",
    "'rus',\n",
    "'roma',\n",
    "'afro']\n",
    "\n",
    "for eth in ethnicities:\n",
    "    with open(f'{eth}_biases.txt', 'w') as f:\n",
    "        pass"
   ]
  },
  {
   "cell_type": "code",
   "execution_count": null,
   "id": "e343808d",
   "metadata": {},
   "outputs": [],
   "source": []
  }
 ],
 "metadata": {
  "kernelspec": {
   "display_name": "aicsenv",
   "language": "python",
   "name": "aicsenv"
  },
  "language_info": {
   "codemirror_mode": {
    "name": "ipython",
    "version": 3
   },
   "file_extension": ".py",
   "mimetype": "text/x-python",
   "name": "python",
   "nbconvert_exporter": "python",
   "pygments_lexer": "ipython3",
   "version": "3.9.10"
  }
 },
 "nbformat": 4,
 "nbformat_minor": 5
}
