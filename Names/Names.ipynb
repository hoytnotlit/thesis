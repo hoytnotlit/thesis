{
 "cells": [
  {
   "cell_type": "markdown",
   "id": "8f866f7b",
   "metadata": {},
   "source": [
    "## Read first name statistics (from DVV) from excel file to csv\n"
   ]
  },
  {
   "cell_type": "code",
   "execution_count": 1,
   "id": "d25f707b",
   "metadata": {},
   "outputs": [],
   "source": [
    "import pandas as pd\n",
    "\n",
    "xls = pd.ExcelFile('DVV/etunimitilasto-2022-02-07-dvv.xlsx')\n",
    "# file includes sheets for statistics on all names and first names\n",
    "# using statistics on first names only\n",
    "female_all = pd.read_excel(xls, 'Naiset ens') \n",
    "male_all = pd.read_excel(xls, 'Miehet ens')\n",
    "\n",
    "female_all.to_csv ('DVV/female_names.csv', index = None, header=True)\n",
    "male_all.to_csv ('DVV/male_names.csv', index = None, header=True)"
   ]
  },
  {
   "cell_type": "markdown",
   "id": "447a7835",
   "metadata": {},
   "source": [
    "## Parse raw first name lists \n",
    "ie remove all extra characters suchs as white spaces, html tags etc. (result of copying data from sources)"
   ]
  },
  {
   "cell_type": "code",
   "execution_count": 38,
   "id": "3ec62f71",
   "metadata": {},
   "outputs": [],
   "source": [
    "import re\n",
    "import string\n",
    "\n",
    "def parse_wiki_name_list(source_file, target_file):\n",
    "    with open(source_file, 'r') as source, open(target_file, 'a') as target:\n",
    "        for line in source:\n",
    "            # ignore empty lines and titles indicating starting letter of name\n",
    "            if len(line.strip()) > 1:\n",
    "                target.write(line.strip() + '\\n')\n",
    "\n",
    "def remove_html(text):\n",
    "    clean = re.compile('<.*?>')\n",
    "    return re.sub(clean, '', text)\n",
    "\n",
    "def parse_html_name_list(source_file, target_file):\n",
    "    with open(source_file, 'r') as source, open(target_file, 'a') as target:\n",
    "        for line in source:\n",
    "            # ignore empty lines and 'continuation' tags\n",
    "            if len(line) > 1 and not 'cont.' in line:\n",
    "                line = remove_html(line).strip()\n",
    "                # some names in the list are gender neutral - they are marked as f/m in the corresponding lists\n",
    "                # remove the f/m marking\n",
    "                if line.endswith(\" f\") or line.endswith(\" m\"):\n",
    "                    line = line[:len(line)-2]\n",
    "                target.write(line + '\\n')\n",
    "\n",
    "# parse name lists compiled from multiple sources\n",
    "def parse_random_name_list(source_file, target_file):\n",
    "    with open(source_file, 'r') as source, open(target_file, 'a') as target:\n",
    "        for line in source:\n",
    "            # ignore empty lines\n",
    "            if len(line) > 1:\n",
    "                line = remove_extra(line).strip()\n",
    "                # get rid of last names, titles etc\n",
    "                # note: this is done with the assumption of there being no two part names\n",
    "                line = line.split()[0]\n",
    "                target.write(line + '\\n')\n",
    "\n",
    "# remove all extra tags, punctuation etc (from copying from wikipedia)\n",
    "def remove_extra(text):\n",
    "    clean = re.compile('\\[.*?\\]')\n",
    "    return re.sub(clean, '', text).translate(str.maketrans('', '', string.punctuation))"
   ]
  },
  {
   "cell_type": "code",
   "execution_count": 39,
   "id": "1f4654a3",
   "metadata": {},
   "outputs": [],
   "source": [
    "parse_wiki_name_list(\"Raw/swe_female_names_raw.txt\", \"Parsed/swe_female_names.txt\")\n",
    "parse_wiki_name_list(\"Raw/swe_male_names_raw.txt\", \"Parsed/swe_male_names.txt\")\n",
    "parse_wiki_name_list(\"Raw/fin_female_names_raw.txt\", \"Parsed/fin_female_names.txt\")\n",
    "parse_wiki_name_list(\"Raw/fin_male_names_raw.txt\", \"Parsed/fin_male_names.txt\")\n",
    "\n",
    "parse_html_name_list(\"Raw/sami_female_names_raw.txt\", \"Parsed/sami_female_names.txt\")\n",
    "parse_html_name_list(\"Raw/sami_male_names_raw.txt\", \"Parsed/sami_male_names.txt\")\n",
    "parse_html_name_list(\"Raw/rus_female_names_raw.txt\", \"Parsed/rus_female_names.txt\")\n",
    "parse_html_name_list(\"Raw/rus_male_names_raw.txt\", \"Parsed/rus_male_names.txt\")\n",
    "\n",
    "parse_random_name_list(\"Raw/roma_male_names_raw.txt\", \"Parsed/roma_male_names.txt\")\n",
    "parse_random_name_list(\"Raw/roma_female_names_raw.txt\", \"Parsed/roma_female_names.txt\")\n",
    "\n",
    "# TODO parse African names"
   ]
  },
  {
   "cell_type": "markdown",
   "id": "3d3eae7d",
   "metadata": {},
   "source": [
    "## Get top n names from each name list\n",
    "\n",
    "Using DVV statistics on name counts "
   ]
  },
  {
   "cell_type": "code",
   "execution_count": 15,
   "id": "6edb68df",
   "metadata": {},
   "outputs": [],
   "source": [
    "# function for normalizing Sami names\n",
    "from unidecode import unidecode\n",
    "\n",
    "def normalize_name(name):\n",
    "    return unidecode(name)"
   ]
  },
  {
   "cell_type": "code",
   "execution_count": 4,
   "id": "cc30f440",
   "metadata": {},
   "outputs": [],
   "source": [
    "import csv\n",
    "\n",
    "def get_all_names(file):\n",
    "    result = {}\n",
    "    with open(file) as all_f:\n",
    "        reader = csv.DictReader(all_f)\n",
    "        result = {row['Etunimi']:row['Lukumäärä'] for row in reader}\n",
    "    return result\n",
    "\n",
    "all_female_names = get_all_names(\"DVV/female_names.csv\")\n",
    "all_male_names = get_all_names(\"DVV/male_names.csv\")"
   ]
  },
  {
   "cell_type": "code",
   "execution_count": 58,
   "id": "a720dc23",
   "metadata": {},
   "outputs": [],
   "source": [
    "def get_top_n_names(eth_names, all_names, n=10, normalize=False):\n",
    "    with open(eth_names) as eth:\n",
    "        # TODO handle normalization for Sami names\n",
    "        all_found_names = [name.strip() for name in eth if name.strip() in all_names.keys()]\n",
    "    # sort names by count and select top n\n",
    "    all_found_names.sort(key=lambda x: int(all_names[x]), reverse=True)\n",
    "    # save to file\n",
    "    top_file = f'Top/{eth_names.split(\"/\")[1]}'\n",
    "    with open(top_file, 'w') as top:\n",
    "        for name in all_found_names[:n]:\n",
    "            top.write(name + '\\n')\n",
    "    return all_found_names[:n]"
   ]
  },
  {
   "cell_type": "code",
   "execution_count": 60,
   "id": "44b38c14",
   "metadata": {},
   "outputs": [],
   "source": [
    "# TODO how to deal with same names in both lists? Filter out names that occur in multiple/only Finnish(top?) lists?\n",
    "# TODO handle special characters eg in Sami names (Suomessa nuo merkit ei virallisessa käytössä?)\n",
    "n = 10\n",
    "# female names\n",
    "top_fin_female_names = get_top_n_names(\"Parsed/fin_female_names.txt\", all_female_names, n)\n",
    "top_swe_female_names = get_top_n_names(\"Parsed/swe_female_names.txt\", all_female_names, n)\n",
    "top_sami_female_names = get_top_n_names(\"Parsed/sami_female_names.txt\", all_female_names, n, normalize=True)\n",
    "top_rus_female_names = get_top_n_names(\"Parsed/rus_female_names.txt\", all_female_names, n)\n",
    "top_roma_female_names = get_top_n_names(\"Parsed/roma_female_names.txt\", all_female_names, n)\n",
    "#top_afro_female_names = get_top_n_names(\"Parsed/afro_female_names.txt\", all_female_names, n)\n",
    "\n",
    "# male names\n",
    "top_fin_male_names = get_top_n_names(\"Parsed/fin_male_names.txt\", all_male_names, n)\n",
    "top_swe_male_names = get_top_n_names(\"Parsed/swe_male_names.txt\", all_male_names, n)\n",
    "top_sami_male_names = get_top_n_names(\"Parsed/sami_male_names.txt\", all_male_names, n, normalize=True)\n",
    "top_rus_male_names = get_top_n_names(\"Parsed/rus_male_names.txt\", all_male_names, n)\n",
    "top_roma_male_names = get_top_n_names(\"Parsed/roma_male_names.txt\", all_male_names, n)\n",
    "#top_afro_male_names = get_top_n_names(\"Parsed/afro_male_names.txt\", all_male_names, n)"
   ]
  },
  {
   "cell_type": "code",
   "execution_count": null,
   "id": "5c594984",
   "metadata": {},
   "outputs": [],
   "source": []
  }
 ],
 "metadata": {
  "kernelspec": {
   "display_name": "Python 3 (ipykernel)",
   "language": "python",
   "name": "python3"
  },
  "language_info": {
   "codemirror_mode": {
    "name": "ipython",
    "version": 3
   },
   "file_extension": ".py",
   "mimetype": "text/x-python",
   "name": "python",
   "nbconvert_exporter": "python",
   "pygments_lexer": "ipython3",
   "version": "3.9.10"
  }
 },
 "nbformat": 4,
 "nbformat_minor": 5
}
