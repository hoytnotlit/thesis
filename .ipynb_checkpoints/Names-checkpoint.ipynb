{
 "cells": [
  {
   "cell_type": "code",
   "execution_count": 1,
   "id": "7531a08b",
   "metadata": {},
   "outputs": [],
   "source": [
    "import pandas as pd\n",
    "\n",
    "xls = pd.ExcelFile('etunimitilasto-2022-02-07-dvv.xlsx')\n",
    "female_all = pd.read_excel(xls, 'Naiset kaikki') # TODO take all names or only first names? \n",
    "male_all = pd.read_excel(xls, 'Miehet kaikki') # TODO take all names or only first names? \n",
    "\n",
    "female_all.to_csv ('female_names.csv', index = None, header=True)\n",
    "male_all.to_csv ('male_names.csv', index = None, header=True)"
   ]
  },
  {
   "cell_type": "code",
   "execution_count": null,
   "id": "e6fdf82a",
   "metadata": {},
   "outputs": [],
   "source": []
  }
 ],
 "metadata": {
  "kernelspec": {
   "display_name": "Python 3 (ipykernel)",
   "language": "python",
   "name": "python3"
  },
  "language_info": {
   "codemirror_mode": {
    "name": "ipython",
    "version": 3
   },
   "file_extension": ".py",
   "mimetype": "text/x-python",
   "name": "python",
   "nbconvert_exporter": "python",
   "pygments_lexer": "ipython3",
   "version": "3.9.10"
  }
 },
 "nbformat": 4,
 "nbformat_minor": 5
}
