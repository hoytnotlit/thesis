{
 "cells": [
  {
   "cell_type": "code",
   "execution_count": null,
   "id": "4e83c251",
   "metadata": {},
   "outputs": [],
   "source": [
    "# TODO explore debiasing techniques"
   ]
  }
 ],
 "metadata": {
  "kernelspec": {
   "display_name": "aicsenv",
   "language": "python",
   "name": "aicsenv"
  },
  "language_info": {
   "codemirror_mode": {
    "name": "ipython",
    "version": 3
   },
   "file_extension": ".py",
   "mimetype": "text/x-python",
   "name": "python",
   "nbconvert_exporter": "python",
   "pygments_lexer": "ipython3",
   "version": "3.9.10"
  }
 },
 "nbformat": 4,
 "nbformat_minor": 5
}
