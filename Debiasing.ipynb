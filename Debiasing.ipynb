{
 "cells": [
  {
   "cell_type": "code",
   "execution_count": 1,
   "id": "f7a8c59d",
   "metadata": {},
   "outputs": [],
   "source": [
    "import json\n",
    "import visualize\n",
    "import os\n",
    "import context as c\n",
    "import pandas as pd"
   ]
  },
  {
   "cell_type": "code",
   "execution_count": 2,
   "id": "f42b64fb",
   "metadata": {},
   "outputs": [
    {
     "ename": "AttributeError",
     "evalue": "'Series' object has no attribute 'applymap'",
     "output_type": "error",
     "traceback": [
      "\u001b[0;31m---------------------------------------------------------------------------\u001b[0m",
      "\u001b[0;31mAttributeError\u001b[0m                            Traceback (most recent call last)",
      "Input \u001b[0;32mIn [2]\u001b[0m, in \u001b[0;36m<cell line: 11>\u001b[0;34m()\u001b[0m\n\u001b[1;32m      8\u001b[0m s_antonym \u001b[38;5;241m=\u001b[39m load(\u001b[38;5;124m\"\u001b[39m\u001b[38;5;124mant_short_probs.json\u001b[39m\u001b[38;5;124m\"\u001b[39m)\n\u001b[1;32m      9\u001b[0m l_antonym \u001b[38;5;241m=\u001b[39m load(\u001b[38;5;124m\"\u001b[39m\u001b[38;5;124mant_long_probs.json\u001b[39m\u001b[38;5;124m\"\u001b[39m)\n\u001b[0;32m---> 11\u001b[0m s_raw \u001b[38;5;241m=\u001b[39m \u001b[43mvisualize\u001b[49m\u001b[38;5;241;43m.\u001b[39;49m\u001b[43mget_sdb_df\u001b[49m\u001b[43m(\u001b[49m\u001b[43ms_debiased\u001b[49m\u001b[43m,\u001b[49m\u001b[43m \u001b[49m\u001b[43mc\u001b[49m\u001b[38;5;241;43m.\u001b[39;49m\u001b[43mcontext_t_i\u001b[49m\u001b[43m)\u001b[49m\n\u001b[1;32m     12\u001b[0m s_ant_raw \u001b[38;5;241m=\u001b[39m visualize\u001b[38;5;241m.\u001b[39mget_ant_prob_df(s_antonym, c\u001b[38;5;241m.\u001b[39mcontext_t_i)\n\u001b[1;32m     13\u001b[0m l_raw \u001b[38;5;241m=\u001b[39m visualize\u001b[38;5;241m.\u001b[39mget_sdb_df(l_debiased, c\u001b[38;5;241m.\u001b[39mcontext_long_t_i)\n",
      "File \u001b[0;32m~/thesis/visualize.py:82\u001b[0m, in \u001b[0;36mget_sdb_df\u001b[0;34m(debiased_data, t_i)\u001b[0m\n\u001b[1;32m     80\u001b[0m \u001b[38;5;66;03m# add percentage change as column\u001b[39;00m\n\u001b[1;32m     81\u001b[0m df \u001b[38;5;241m=\u001b[39m df\u001b[38;5;241m.\u001b[39massign(Change\u001b[38;5;241m=\u001b[39mpercentage_change(df[\u001b[38;5;124m'\u001b[39m\u001b[38;5;124mOriginal prob.\u001b[39m\u001b[38;5;124m'\u001b[39m], df[\u001b[38;5;124m'\u001b[39m\u001b[38;5;124mNew prob\u001b[39m\u001b[38;5;124m'\u001b[39m])\u001b[38;5;241m.\u001b[39mvalues)\u001b[38;5;241m.\u001b[39msort_values(by\u001b[38;5;241m=\u001b[39m\u001b[38;5;124m\"\u001b[39m\u001b[38;5;124mChange\u001b[39m\u001b[38;5;124m\"\u001b[39m, ascending\u001b[38;5;241m=\u001b[39m\u001b[38;5;28;01mFalse\u001b[39;00m)\n\u001b[0;32m---> 82\u001b[0m df[\u001b[38;5;124m'\u001b[39m\u001b[38;5;124mChange\u001b[39m\u001b[38;5;124m'\u001b[39m] \u001b[38;5;241m=\u001b[39m \u001b[43mdf\u001b[49m\u001b[43m[\u001b[49m\u001b[38;5;124;43m'\u001b[39;49m\u001b[38;5;124;43mChange\u001b[39;49m\u001b[38;5;124;43m'\u001b[39;49m\u001b[43m]\u001b[49m\u001b[38;5;241;43m.\u001b[39;49m\u001b[43mapplymap\u001b[49m(\u001b[38;5;28;01mlambda\u001b[39;00m x: \u001b[38;5;124m\"\u001b[39m\u001b[38;5;132;01m{0:.2f}\u001b[39;00m\u001b[38;5;124m%\u001b[39m\u001b[38;5;124m\"\u001b[39m\u001b[38;5;241m.\u001b[39mformat(x))\n\u001b[1;32m     83\u001b[0m \u001b[38;5;66;03m# rearrange columns\u001b[39;00m\n\u001b[1;32m     84\u001b[0m cols \u001b[38;5;241m=\u001b[39m \u001b[38;5;28mlist\u001b[39m(df\u001b[38;5;241m.\u001b[39mcolumns\u001b[38;5;241m.\u001b[39mvalues)\n",
      "File \u001b[0;32m~/venv/lib64/python3.9/site-packages/pandas/core/generic.py:5575\u001b[0m, in \u001b[0;36mNDFrame.__getattr__\u001b[0;34m(self, name)\u001b[0m\n\u001b[1;32m   5568\u001b[0m \u001b[38;5;28;01mif\u001b[39;00m (\n\u001b[1;32m   5569\u001b[0m     name \u001b[38;5;129;01mnot\u001b[39;00m \u001b[38;5;129;01min\u001b[39;00m \u001b[38;5;28mself\u001b[39m\u001b[38;5;241m.\u001b[39m_internal_names_set\n\u001b[1;32m   5570\u001b[0m     \u001b[38;5;129;01mand\u001b[39;00m name \u001b[38;5;129;01mnot\u001b[39;00m \u001b[38;5;129;01min\u001b[39;00m \u001b[38;5;28mself\u001b[39m\u001b[38;5;241m.\u001b[39m_metadata\n\u001b[1;32m   5571\u001b[0m     \u001b[38;5;129;01mand\u001b[39;00m name \u001b[38;5;129;01mnot\u001b[39;00m \u001b[38;5;129;01min\u001b[39;00m \u001b[38;5;28mself\u001b[39m\u001b[38;5;241m.\u001b[39m_accessors\n\u001b[1;32m   5572\u001b[0m     \u001b[38;5;129;01mand\u001b[39;00m \u001b[38;5;28mself\u001b[39m\u001b[38;5;241m.\u001b[39m_info_axis\u001b[38;5;241m.\u001b[39m_can_hold_identifiers_and_holds_name(name)\n\u001b[1;32m   5573\u001b[0m ):\n\u001b[1;32m   5574\u001b[0m     \u001b[38;5;28;01mreturn\u001b[39;00m \u001b[38;5;28mself\u001b[39m[name]\n\u001b[0;32m-> 5575\u001b[0m \u001b[38;5;28;01mreturn\u001b[39;00m \u001b[38;5;28;43mobject\u001b[39;49m\u001b[38;5;241;43m.\u001b[39;49m\u001b[38;5;21;43m__getattribute__\u001b[39;49m\u001b[43m(\u001b[49m\u001b[38;5;28;43mself\u001b[39;49m\u001b[43m,\u001b[49m\u001b[43m \u001b[49m\u001b[43mname\u001b[49m\u001b[43m)\u001b[49m\n",
      "\u001b[0;31mAttributeError\u001b[0m: 'Series' object has no attribute 'applymap'"
     ]
    }
   ],
   "source": [
    "def load(file_name):\n",
    "    with open(f\"Results/raw/{file_name}\", \"r\") as f:\n",
    "        res = json.load(f)\n",
    "    return res\n",
    "\n",
    "s_debiased = load(\"sdb_short.json\")\n",
    "l_debiased = load(\"sdb_long.json\")\n",
    "s_antonym = load(\"ant_short_probs.json\")\n",
    "l_antonym = load(\"ant_long_probs.json\")\n",
    "\n",
    "s_raw = visualize.get_sdb_df(s_debiased, c.context_t_i)\n",
    "s_ant_raw = visualize.get_ant_prob_df(s_antonym, c.context_t_i)\n",
    "l_raw = visualize.get_sdb_df(l_debiased, c.context_long_t_i)\n",
    "l_ant_raw = visualize.get_ant_prob_df(l_antonym, c.context_long_t_i)"
   ]
  },
  {
   "cell_type": "markdown",
   "id": "178aa0ac",
   "metadata": {},
   "source": [
    "# Means"
   ]
  },
  {
   "cell_type": "code",
   "execution_count": null,
   "id": "2ef82192",
   "metadata": {},
   "outputs": [],
   "source": [
    "#s_raw.groupby(s_raw['Ethnicity']).mean().sort_values(\"Difference\", ascending=False)\n",
    "#visualize.get_sdb_means(s_raw, 'sdb_short_means.tex')"
   ]
  },
  {
   "cell_type": "code",
   "execution_count": null,
   "id": "5b95655e",
   "metadata": {},
   "outputs": [],
   "source": [
    "#l_raw.groupby(l_raw['Ethnicity']).mean().sort_values(\"Difference\", ascending=False)\n",
    "#visualize.get_sdb_means(l_raw, 'sdb_long_means.tex')"
   ]
  },
  {
   "cell_type": "code",
   "execution_count": null,
   "id": "35fd65e7",
   "metadata": {},
   "outputs": [],
   "source": [
    "# means on word level\n",
    "import pandas \n",
    "pandas.set_option('display.max_rows', 250)"
   ]
  },
  {
   "cell_type": "code",
   "execution_count": null,
   "id": "5c4ef77c",
   "metadata": {},
   "outputs": [],
   "source": [
    "#s_raw.groupby(['Ethnicity', 'Biased term']).mean()"
   ]
  },
  {
   "cell_type": "code",
   "execution_count": null,
   "id": "06693767",
   "metadata": {},
   "outputs": [],
   "source": [
    "#l_raw.groupby(['Ethnicity', 'Biased term']).mean()"
   ]
  },
  {
   "cell_type": "code",
   "execution_count": null,
   "id": "a3616295",
   "metadata": {},
   "outputs": [],
   "source": [
    "# entity level"
   ]
  },
  {
   "cell_type": "code",
   "execution_count": null,
   "id": "a7ec5236",
   "metadata": {},
   "outputs": [],
   "source": [
    "#s_raw.groupby(['Ethnicity', 'Entity']).mean()"
   ]
  },
  {
   "cell_type": "code",
   "execution_count": null,
   "id": "87d72055",
   "metadata": {},
   "outputs": [],
   "source": [
    "#l_raw.groupby(['Ethnicity', 'Entity']).mean()"
   ]
  },
  {
   "cell_type": "code",
   "execution_count": null,
   "id": "193bedde",
   "metadata": {},
   "outputs": [],
   "source": [
    "# combine with antonyms"
   ]
  },
  {
   "cell_type": "code",
   "execution_count": null,
   "id": "d08ef531",
   "metadata": {},
   "outputs": [],
   "source": [
    "s_ant_comb = visualize.get_sdb_ant_df(s_raw, s_ant_raw)\n",
    "l_ant_comb = visualize.get_sdb_ant_df(l_raw, l_ant_raw)\n",
    "\n",
    "visualize.get_sdb_means(s_ant_comb, 'sdb_short_means.tex')\n",
    "visualize.get_sdb_means(l_ant_comb, 'sdb_long_means.tex')\n",
    "\n",
    "#s_ant_comb.loc[ant_comb['Difference'] <= 0] # 87 rows\n",
    "#s_ant_comb.loc[ant_comb['Difference'] > 0] # 163 rows\n",
    "\n",
    "# get top n changes\n",
    "visualize.get_top_n_changes(s_raw, file_name='sdb_s_top_10.tex')\n",
    "visualize.get_top_n_changes(l_raw, file_name='sdb_l_top_10.tex')\n",
    "\n",
    "# TODO should I do association scores as well?\n",
    "# TODO go over antonyms\n",
    "# TODO add control group? Or thats only for previous part of the work?\n",
    "# TODO highlight out of vocab rows?"
   ]
  },
  {
   "cell_type": "code",
   "execution_count": null,
   "id": "b293d7e5",
   "metadata": {},
   "outputs": [],
   "source": [
    "visualize.get_sdb_ant_diff(s_ant_comb, \"sdb_s_ant_diff.tex\")\n",
    "visualize.get_sdb_ant_diff(l_ant_comb, \"sdb_l_ant_diff.tex\")"
   ]
  },
  {
   "cell_type": "code",
   "execution_count": null,
   "id": "1c2ebfaf",
   "metadata": {},
   "outputs": [],
   "source": []
  },
  {
   "cell_type": "code",
   "execution_count": null,
   "id": "214ad989",
   "metadata": {},
   "outputs": [],
   "source": []
  },
  {
   "cell_type": "code",
   "execution_count": null,
   "id": "0538dbf6",
   "metadata": {},
   "outputs": [],
   "source": []
  },
  {
   "cell_type": "code",
   "execution_count": null,
   "id": "cf359e96",
   "metadata": {},
   "outputs": [],
   "source": []
  }
 ],
 "metadata": {
  "kernelspec": {
   "display_name": "venv",
   "language": "python",
   "name": "venv"
  },
  "language_info": {
   "codemirror_mode": {
    "name": "ipython",
    "version": 3
   },
   "file_extension": ".py",
   "mimetype": "text/x-python",
   "name": "python",
   "nbconvert_exporter": "python",
   "pygments_lexer": "ipython3",
   "version": "3.9.10"
  }
 },
 "nbformat": 4,
 "nbformat_minor": 5
}
