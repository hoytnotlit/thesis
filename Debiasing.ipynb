{
 "cells": [
  {
   "cell_type": "code",
   "execution_count": 9,
   "id": "7d677102",
   "metadata": {},
   "outputs": [],
   "source": [
    "import json\n",
    "import os"
   ]
  },
  {
   "cell_type": "code",
   "execution_count": null,
   "id": "4e83c251",
   "metadata": {},
   "outputs": [],
   "source": [
    "# TODO explore debiasing techniques"
   ]
  },
  {
   "cell_type": "code",
   "execution_count": 6,
   "id": "8f846032",
   "metadata": {},
   "outputs": [],
   "source": [
    "# TODO create pretraining data (as txt?)"
   ]
  },
  {
   "cell_type": "code",
   "execution_count": 25,
   "id": "dfbd7750",
   "metadata": {},
   "outputs": [],
   "source": [
    "wiki_dir = '../text'\n",
    "result = []\n",
    "for d in os.listdir(wiki_dir):\n",
    "    for file in os.listdir(f'{wiki_dir}/{d}'):\n",
    "        with open(f'{wiki_dir}/{d}/{file}', 'r') as f:\n",
    "            for line in f:\n",
    "                result.append(json.loads(line)['text'])"
   ]
  },
  {
   "cell_type": "code",
   "execution_count": 29,
   "id": "32667868",
   "metadata": {},
   "outputs": [],
   "source": [
    "with open('wikidata.txt', 'w') as output_f:\n",
    "    for line in result:\n",
    "        output_f.write(\"%s\\n\" % line)"
   ]
  },
  {
   "cell_type": "code",
   "execution_count": 28,
   "id": "7296756d",
   "metadata": {},
   "outputs": [],
   "source": [
    "# TODO run pretraining with modified dropout value"
   ]
  },
  {
   "cell_type": "code",
   "execution_count": null,
   "id": "d7c330c8",
   "metadata": {},
   "outputs": [],
   "source": []
  }
 ],
 "metadata": {
  "kernelspec": {
   "display_name": "aicsenv",
   "language": "python",
   "name": "aicsenv"
  },
  "language_info": {
   "codemirror_mode": {
    "name": "ipython",
    "version": 3
   },
   "file_extension": ".py",
   "mimetype": "text/x-python",
   "name": "python",
   "nbconvert_exporter": "python",
   "pygments_lexer": "ipython3",
   "version": "3.9.10"
  }
 },
 "nbformat": 4,
 "nbformat_minor": 5
}
